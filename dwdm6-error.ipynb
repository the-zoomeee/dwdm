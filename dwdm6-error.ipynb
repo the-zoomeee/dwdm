{
  "metadata": {
    "kernelspec": {
      "name": "python",
      "display_name": "Python (Pyodide)",
      "language": "python"
    },
    "language_info": {
      "codemirror_mode": {
        "name": "python",
        "version": 3
      },
      "file_extension": ".py",
      "mimetype": "text/x-python",
      "name": "python",
      "nbconvert_exporter": "python",
      "pygments_lexer": "ipython3",
      "version": "3.8"
    },
    "widgets": {
      "application/vnd.jupyter.widget-state+json": {
        "version_major": 2,
        "version_minor": 0,
        "state": {}
      }
    }
  },
  "nbformat_minor": 5,
  "nbformat": 4,
  "cells": [
    {
      "id": "86b4a982-ec5c-4a74-bc23-f8e34faf596b",
      "cell_type": "code",
      "source": "%pip install pandas openpyxl\n%pip install mlxtend\n",
      "metadata": {
        "trusted": true
      },
      "outputs": [],
      "execution_count": 42
    },
    {
      "id": "646f37ea-63a3-4496-aa99-c3454496a4be",
      "cell_type": "code",
      "source": "import numpy as np\nimport pandas as pd\nfrom mlxtend.frequent_patterns import apriori, association_rules\nimport warnings\nwarnings.filterwarnings (\"ignore\")",
      "metadata": {
        "trusted": true
      },
      "outputs": [],
      "execution_count": 43
    },
    {
      "id": "c3cc035c-45db-4a18-821b-23fdee670289",
      "cell_type": "code",
      "source": "data=pd.read_excel('Online Retail.xlsx')",
      "metadata": {
        "trusted": true
      },
      "outputs": [
        {
          "ename": "<class 'ValueError'>",
          "evalue": "Excel file format cannot be determined, you must specify an engine manually.",
          "traceback": [
            "\u001b[0;31m---------------------------------------------------------------------------\u001b[0m",
            "\u001b[0;31mValueError\u001b[0m                                Traceback (most recent call last)",
            "Cell \u001b[0;32mIn[44], line 1\u001b[0m\n\u001b[0;32m----> 1\u001b[0m data\u001b[38;5;241m=\u001b[39m\u001b[43mpd\u001b[49m\u001b[38;5;241;43m.\u001b[39;49m\u001b[43mread_excel\u001b[49m\u001b[43m(\u001b[49m\u001b[38;5;124;43m'\u001b[39;49m\u001b[38;5;124;43mOnline Retail.xlsx\u001b[39;49m\u001b[38;5;124;43m'\u001b[39;49m\u001b[43m)\u001b[49m\n",
            "File \u001b[0;32m/lib/python3.12/site-packages/pandas/io/excel/_base.py:495\u001b[0m, in \u001b[0;36mread_excel\u001b[0;34m(io, sheet_name, header, names, index_col, usecols, dtype, engine, converters, true_values, false_values, skiprows, nrows, na_values, keep_default_na, na_filter, verbose, parse_dates, date_parser, date_format, thousands, decimal, comment, skipfooter, storage_options, dtype_backend, engine_kwargs)\u001b[0m\n\u001b[1;32m    493\u001b[0m \u001b[38;5;28;01mif\u001b[39;00m \u001b[38;5;129;01mnot\u001b[39;00m \u001b[38;5;28misinstance\u001b[39m(io, ExcelFile):\n\u001b[1;32m    494\u001b[0m     should_close \u001b[38;5;241m=\u001b[39m \u001b[38;5;28;01mTrue\u001b[39;00m\n\u001b[0;32m--> 495\u001b[0m     io \u001b[38;5;241m=\u001b[39m \u001b[43mExcelFile\u001b[49m\u001b[43m(\u001b[49m\n\u001b[1;32m    496\u001b[0m \u001b[43m        \u001b[49m\u001b[43mio\u001b[49m\u001b[43m,\u001b[49m\n\u001b[1;32m    497\u001b[0m \u001b[43m        \u001b[49m\u001b[43mstorage_options\u001b[49m\u001b[38;5;241;43m=\u001b[39;49m\u001b[43mstorage_options\u001b[49m\u001b[43m,\u001b[49m\n\u001b[1;32m    498\u001b[0m \u001b[43m        \u001b[49m\u001b[43mengine\u001b[49m\u001b[38;5;241;43m=\u001b[39;49m\u001b[43mengine\u001b[49m\u001b[43m,\u001b[49m\n\u001b[1;32m    499\u001b[0m \u001b[43m        \u001b[49m\u001b[43mengine_kwargs\u001b[49m\u001b[38;5;241;43m=\u001b[39;49m\u001b[43mengine_kwargs\u001b[49m\u001b[43m,\u001b[49m\n\u001b[1;32m    500\u001b[0m \u001b[43m    \u001b[49m\u001b[43m)\u001b[49m\n\u001b[1;32m    501\u001b[0m \u001b[38;5;28;01melif\u001b[39;00m engine \u001b[38;5;129;01mand\u001b[39;00m engine \u001b[38;5;241m!=\u001b[39m io\u001b[38;5;241m.\u001b[39mengine:\n\u001b[1;32m    502\u001b[0m     \u001b[38;5;28;01mraise\u001b[39;00m \u001b[38;5;167;01mValueError\u001b[39;00m(\n\u001b[1;32m    503\u001b[0m         \u001b[38;5;124m\"\u001b[39m\u001b[38;5;124mEngine should not be specified when passing \u001b[39m\u001b[38;5;124m\"\u001b[39m\n\u001b[1;32m    504\u001b[0m         \u001b[38;5;124m\"\u001b[39m\u001b[38;5;124man ExcelFile - ExcelFile already has the engine set\u001b[39m\u001b[38;5;124m\"\u001b[39m\n\u001b[1;32m    505\u001b[0m     )\n",
            "File \u001b[0;32m/lib/python3.12/site-packages/pandas/io/excel/_base.py:1554\u001b[0m, in \u001b[0;36mExcelFile.__init__\u001b[0;34m(self, path_or_buffer, engine, storage_options, engine_kwargs)\u001b[0m\n\u001b[1;32m   1550\u001b[0m     ext \u001b[38;5;241m=\u001b[39m inspect_excel_format(\n\u001b[1;32m   1551\u001b[0m         content_or_path\u001b[38;5;241m=\u001b[39mpath_or_buffer, storage_options\u001b[38;5;241m=\u001b[39mstorage_options\n\u001b[1;32m   1552\u001b[0m     )\n\u001b[1;32m   1553\u001b[0m     \u001b[38;5;28;01mif\u001b[39;00m ext \u001b[38;5;129;01mis\u001b[39;00m \u001b[38;5;28;01mNone\u001b[39;00m:\n\u001b[0;32m-> 1554\u001b[0m         \u001b[38;5;28;01mraise\u001b[39;00m \u001b[38;5;167;01mValueError\u001b[39;00m(\n\u001b[1;32m   1555\u001b[0m             \u001b[38;5;124m\"\u001b[39m\u001b[38;5;124mExcel file format cannot be determined, you must specify \u001b[39m\u001b[38;5;124m\"\u001b[39m\n\u001b[1;32m   1556\u001b[0m             \u001b[38;5;124m\"\u001b[39m\u001b[38;5;124man engine manually.\u001b[39m\u001b[38;5;124m\"\u001b[39m\n\u001b[1;32m   1557\u001b[0m         )\n\u001b[1;32m   1559\u001b[0m engine \u001b[38;5;241m=\u001b[39m config\u001b[38;5;241m.\u001b[39mget_option(\u001b[38;5;124mf\u001b[39m\u001b[38;5;124m\"\u001b[39m\u001b[38;5;124mio.excel.\u001b[39m\u001b[38;5;132;01m{\u001b[39;00mext\u001b[38;5;132;01m}\u001b[39;00m\u001b[38;5;124m.reader\u001b[39m\u001b[38;5;124m\"\u001b[39m, silent\u001b[38;5;241m=\u001b[39m\u001b[38;5;28;01mTrue\u001b[39;00m)\n\u001b[1;32m   1560\u001b[0m \u001b[38;5;28;01mif\u001b[39;00m engine \u001b[38;5;241m==\u001b[39m \u001b[38;5;124m\"\u001b[39m\u001b[38;5;124mauto\u001b[39m\u001b[38;5;124m\"\u001b[39m:\n",
            "\u001b[0;31mValueError\u001b[0m: Excel file format cannot be determined, you must specify an engine manually."
          ],
          "output_type": "error"
        }
      ],
      "execution_count": 44
    },
    {
      "id": "d0e2de32-2a88-4703-a55d-85f54b1e27e5",
      "cell_type": "code",
      "source": "data.head()",
      "metadata": {
        "trusted": true
      },
      "outputs": [
        {
          "execution_count": 30,
          "output_type": "execute_result",
          "data": {
            "text/plain": "  InvoiceNo StockCode                          Description  Quantity  \\\n0    536365    85123A   WHITE HANGING HEART T-LIGHT HOLDER         6   \n1    536365     71053                  WHITE METAL LANTERN         6   \n2    536365    84406B       CREAM CUPID HEARTS COAT HANGER         8   \n3    536365    84029G  KNITTED UNION FLAG HOT WATER BOTTLE         6   \n4    536365    84029E       RED WOOLLY HOTTIE WHITE HEART.         6   \n\n      InvoiceDate  UnitPrice  CustomerID         Country  \n0  12/1/2010 8:26       2.55     17850.0  United Kingdom  \n1  12/1/2010 8:26       3.39     17850.0  United Kingdom  \n2  12/1/2010 8:26       2.75     17850.0  United Kingdom  \n3  12/1/2010 8:26       3.39     17850.0  United Kingdom  \n4  12/1/2010 8:26       3.39     17850.0  United Kingdom  ",
            "text/html": "<div>\n<style scoped>\n    .dataframe tbody tr th:only-of-type {\n        vertical-align: middle;\n    }\n\n    .dataframe tbody tr th {\n        vertical-align: top;\n    }\n\n    .dataframe thead th {\n        text-align: right;\n    }\n</style>\n<table border=\"1\" class=\"dataframe\">\n  <thead>\n    <tr style=\"text-align: right;\">\n      <th></th>\n      <th>InvoiceNo</th>\n      <th>StockCode</th>\n      <th>Description</th>\n      <th>Quantity</th>\n      <th>InvoiceDate</th>\n      <th>UnitPrice</th>\n      <th>CustomerID</th>\n      <th>Country</th>\n    </tr>\n  </thead>\n  <tbody>\n    <tr>\n      <th>0</th>\n      <td>536365</td>\n      <td>85123A</td>\n      <td>WHITE HANGING HEART T-LIGHT HOLDER</td>\n      <td>6</td>\n      <td>12/1/2010 8:26</td>\n      <td>2.55</td>\n      <td>17850.0</td>\n      <td>United Kingdom</td>\n    </tr>\n    <tr>\n      <th>1</th>\n      <td>536365</td>\n      <td>71053</td>\n      <td>WHITE METAL LANTERN</td>\n      <td>6</td>\n      <td>12/1/2010 8:26</td>\n      <td>3.39</td>\n      <td>17850.0</td>\n      <td>United Kingdom</td>\n    </tr>\n    <tr>\n      <th>2</th>\n      <td>536365</td>\n      <td>84406B</td>\n      <td>CREAM CUPID HEARTS COAT HANGER</td>\n      <td>8</td>\n      <td>12/1/2010 8:26</td>\n      <td>2.75</td>\n      <td>17850.0</td>\n      <td>United Kingdom</td>\n    </tr>\n    <tr>\n      <th>3</th>\n      <td>536365</td>\n      <td>84029G</td>\n      <td>KNITTED UNION FLAG HOT WATER BOTTLE</td>\n      <td>6</td>\n      <td>12/1/2010 8:26</td>\n      <td>3.39</td>\n      <td>17850.0</td>\n      <td>United Kingdom</td>\n    </tr>\n    <tr>\n      <th>4</th>\n      <td>536365</td>\n      <td>84029E</td>\n      <td>RED WOOLLY HOTTIE WHITE HEART.</td>\n      <td>6</td>\n      <td>12/1/2010 8:26</td>\n      <td>3.39</td>\n      <td>17850.0</td>\n      <td>United Kingdom</td>\n    </tr>\n  </tbody>\n</table>\n</div>"
          },
          "metadata": {}
        }
      ],
      "execution_count": 30
    },
    {
      "id": "743401bf-e3be-47b7-855e-7805523a336a",
      "cell_type": "code",
      "source": "data.columns",
      "metadata": {
        "trusted": true
      },
      "outputs": [
        {
          "execution_count": 31,
          "output_type": "execute_result",
          "data": {
            "text/plain": "Index(['InvoiceNo', 'StockCode', 'Description', 'Quantity', 'InvoiceDate',\n       'UnitPrice', 'CustomerID', 'Country'],\n      dtype='object')"
          },
          "metadata": {}
        }
      ],
      "execution_count": 31
    },
    {
      "id": "275f04aa-8bfc-4eb2-8c50-bf746a9dd819",
      "cell_type": "code",
      "source": "data.shape",
      "metadata": {
        "trusted": true
      },
      "outputs": [
        {
          "execution_count": 32,
          "output_type": "execute_result",
          "data": {
            "text/plain": "(541909, 8)"
          },
          "metadata": {}
        }
      ],
      "execution_count": 32
    },
    {
      "id": "6aff11db-dd17-42d5-b3ce-4e19babe7636",
      "cell_type": "code",
      "source": "data.isnull().values.any()",
      "metadata": {
        "trusted": true
      },
      "outputs": [
        {
          "execution_count": 33,
          "output_type": "execute_result",
          "data": {
            "text/plain": "True"
          },
          "metadata": {}
        }
      ],
      "execution_count": 33
    },
    {
      "id": "86ebd7eb-9304-4960-a7ce-1f1c88ce501a",
      "cell_type": "code",
      "source": "data.isnull().sum()",
      "metadata": {
        "scrolled": true,
        "trusted": true
      },
      "outputs": [
        {
          "execution_count": 34,
          "output_type": "execute_result",
          "data": {
            "text/plain": "InvoiceNo           0\nStockCode           0\nDescription      1454\nQuantity            0\nInvoiceDate         0\nUnitPrice           0\nCustomerID     135080\nCountry             0\ndtype: int64"
          },
          "metadata": {}
        }
      ],
      "execution_count": 34
    },
    {
      "id": "7443f201-4143-4152-bcb7-e1547c18743f",
      "cell_type": "code",
      "source": "#Stripping extra spaces in the description \ndata['Description'] = data['Description'].str.strip()\n\n# Dropping the rows without any invoice number \ndata.dropna (axis = 0, subset = ['InvoiceNo'], inplace = True) \ndata['InvoiceNo'] = data['InvoiceNo'].astype('str')\n\n#Dropping all transactions which were done on credit \ndata = data[~data['InvoiceNo'].str.contains('C')]",
      "metadata": {
        "trusted": true
      },
      "outputs": [],
      "execution_count": 35
    },
    {
      "id": "3c58c593-467a-4c9f-b57f-fd2188d298fa",
      "cell_type": "code",
      "source": "# Let's see the countries in our dataset\ndata.Country.unique()",
      "metadata": {
        "trusted": true
      },
      "outputs": [
        {
          "execution_count": 36,
          "output_type": "execute_result",
          "data": {
            "text/plain": "array(['United Kingdom', 'France', 'Australia', 'Netherlands', 'Germany',\n       'Norway', 'EIRE', 'Switzerland', 'Spain', 'Poland', 'Portugal',\n       'Italy', 'Belgium', 'Lithuania', 'Japan', 'Iceland',\n       'Channel Islands', 'Denmark', 'Cyprus', 'Sweden', 'Finland',\n       'Austria', 'Bahrain', 'Israel', 'Greece', 'Hong Kong', 'Singapore',\n       'Lebanon', 'United Arab Emirates', 'Saudi Arabia',\n       'Czech Republic', 'Canada', 'Unspecified', 'Brazil', 'USA',\n       'European Community', 'Malta', 'RSA'], dtype=object)"
          },
          "metadata": {}
        }
      ],
      "execution_count": 36
    },
    {
      "id": "b8dd146e-56e5-4b97-a437-3dd093e617b7",
      "cell_type": "code",
      "source": "#Splitting the data according to the region of transaction \n# Transactions done in France\nbasket_France = (data[data['Country'] ==\"France\"]\n                 .groupby(['InvoiceNo', 'Description'])['Quantity']\n                 .sum().unstack().reset_index().fillna(0)\n                 .set_index('InvoiceNo'))",
      "metadata": {
        "trusted": true
      },
      "outputs": [],
      "execution_count": 37
    },
    {
      "id": "700a3a49-aee0-4f6a-b02b-9faa41219521",
      "cell_type": "code",
      "source": "#Defining the hot encoding function to make the data suitable\ndef hot_encode(x):\n    if(x<= 0):\n        return 0\n    if(x>= 1):\n        return 1",
      "metadata": {
        "trusted": true
      },
      "outputs": [],
      "execution_count": 38
    },
    {
      "id": "a7422c89-f305-4c3c-9a50-64a5ae9e359a",
      "cell_type": "code",
      "source": "#Applying one hot encoding\nbasket_encoded = basket_France.applymap(hot_encode) \nbasket_France = basket_encoded",
      "metadata": {
        "trusted": true
      },
      "outputs": [],
      "execution_count": 39
    },
    {
      "id": "73becb35-73c5-4c78-a7d6-57ddadbcfb6f",
      "cell_type": "code",
      "source": "basket_France.head()",
      "metadata": {
        "trusted": true
      },
      "outputs": [
        {
          "execution_count": 40,
          "output_type": "execute_result",
          "data": {
            "text/plain": "Description  10 COLOUR SPACEBOY PEN  12 COLOURED PARTY BALLOONS  \\\nInvoiceNo                                                         \n536370                            0                           0   \n536852                            0                           0   \n536974                            0                           0   \n537065                            0                           0   \n537463                            0                           0   \n\nDescription  12 EGG HOUSE PAINTED WOOD  12 MESSAGE CARDS WITH ENVELOPES  \\\nInvoiceNo                                                                 \n536370                               0                                0   \n536852                               0                                0   \n536974                               0                                0   \n537065                               0                                0   \n537463                               0                                0   \n\nDescription  12 PENCIL SMALL TUBE WOODLAND  \\\nInvoiceNo                                    \n536370                                   0   \n536852                                   0   \n536974                                   0   \n537065                                   0   \n537463                                   0   \n\nDescription  12 PENCILS SMALL TUBE RED RETROSPOT  12 PENCILS SMALL TUBE SKULL  \\\nInvoiceNo                                                                       \n536370                                         0                            0   \n536852                                         0                            0   \n536974                                         0                            0   \n537065                                         0                            0   \n537463                                         0                            0   \n\nDescription  12 PENCILS TALL TUBE POSY  12 PENCILS TALL TUBE RED RETROSPOT  \\\nInvoiceNo                                                                    \n536370                               0                                   0   \n536852                               0                                   0   \n536974                               0                                   0   \n537065                               0                                   0   \n537463                               0                                   0   \n\nDescription  12 PENCILS TALL TUBE WOODLAND  ...  WRAP VINTAGE PETALS  DESIGN  \\\nInvoiceNo                                   ...                                \n536370                                   0  ...                            0   \n536852                                   0  ...                            0   \n536974                                   0  ...                            0   \n537065                                   0  ...                            0   \n537463                                   0  ...                            0   \n\nDescription  YELLOW COAT RACK PARIS FASHION  YELLOW GIANT GARDEN THERMOMETER  \\\nInvoiceNo                                                                      \n536370                                    0                                0   \n536852                                    0                                0   \n536974                                    0                                0   \n537065                                    0                                0   \n537463                                    0                                0   \n\nDescription  YELLOW SHARK HELICOPTER  ZINC  STAR T-LIGHT HOLDER  \\\nInvoiceNo                                                         \n536370                             0                          0   \n536852                             0                          0   \n536974                             0                          0   \n537065                             0                          0   \n537463                             0                          0   \n\nDescription  ZINC FOLKART SLEIGH BELLS  ZINC HERB GARDEN CONTAINER  \\\nInvoiceNo                                                            \n536370                               0                           0   \n536852                               0                           0   \n536974                               0                           0   \n537065                               0                           0   \n537463                               0                           0   \n\nDescription  ZINC METAL HEART DECORATION  ZINC T-LIGHT HOLDER STAR LARGE  \\\nInvoiceNo                                                                  \n536370                                 0                               0   \n536852                                 0                               0   \n536974                                 0                               0   \n537065                                 0                               0   \n537463                                 0                               0   \n\nDescription  ZINC T-LIGHT HOLDER STARS SMALL  \nInvoiceNo                                     \n536370                                     0  \n536852                                     0  \n536974                                     0  \n537065                                     0  \n537463                                     0  \n\n[5 rows x 1563 columns]",
            "text/html": "<div>\n<style scoped>\n    .dataframe tbody tr th:only-of-type {\n        vertical-align: middle;\n    }\n\n    .dataframe tbody tr th {\n        vertical-align: top;\n    }\n\n    .dataframe thead th {\n        text-align: right;\n    }\n</style>\n<table border=\"1\" class=\"dataframe\">\n  <thead>\n    <tr style=\"text-align: right;\">\n      <th>Description</th>\n      <th>10 COLOUR SPACEBOY PEN</th>\n      <th>12 COLOURED PARTY BALLOONS</th>\n      <th>12 EGG HOUSE PAINTED WOOD</th>\n      <th>12 MESSAGE CARDS WITH ENVELOPES</th>\n      <th>12 PENCIL SMALL TUBE WOODLAND</th>\n      <th>12 PENCILS SMALL TUBE RED RETROSPOT</th>\n      <th>12 PENCILS SMALL TUBE SKULL</th>\n      <th>12 PENCILS TALL TUBE POSY</th>\n      <th>12 PENCILS TALL TUBE RED RETROSPOT</th>\n      <th>12 PENCILS TALL TUBE WOODLAND</th>\n      <th>...</th>\n      <th>WRAP VINTAGE PETALS  DESIGN</th>\n      <th>YELLOW COAT RACK PARIS FASHION</th>\n      <th>YELLOW GIANT GARDEN THERMOMETER</th>\n      <th>YELLOW SHARK HELICOPTER</th>\n      <th>ZINC  STAR T-LIGHT HOLDER</th>\n      <th>ZINC FOLKART SLEIGH BELLS</th>\n      <th>ZINC HERB GARDEN CONTAINER</th>\n      <th>ZINC METAL HEART DECORATION</th>\n      <th>ZINC T-LIGHT HOLDER STAR LARGE</th>\n      <th>ZINC T-LIGHT HOLDER STARS SMALL</th>\n    </tr>\n    <tr>\n      <th>InvoiceNo</th>\n      <th></th>\n      <th></th>\n      <th></th>\n      <th></th>\n      <th></th>\n      <th></th>\n      <th></th>\n      <th></th>\n      <th></th>\n      <th></th>\n      <th></th>\n      <th></th>\n      <th></th>\n      <th></th>\n      <th></th>\n      <th></th>\n      <th></th>\n      <th></th>\n      <th></th>\n      <th></th>\n      <th></th>\n    </tr>\n  </thead>\n  <tbody>\n    <tr>\n      <th>536370</th>\n      <td>0</td>\n      <td>0</td>\n      <td>0</td>\n      <td>0</td>\n      <td>0</td>\n      <td>0</td>\n      <td>0</td>\n      <td>0</td>\n      <td>0</td>\n      <td>0</td>\n      <td>...</td>\n      <td>0</td>\n      <td>0</td>\n      <td>0</td>\n      <td>0</td>\n      <td>0</td>\n      <td>0</td>\n      <td>0</td>\n      <td>0</td>\n      <td>0</td>\n      <td>0</td>\n    </tr>\n    <tr>\n      <th>536852</th>\n      <td>0</td>\n      <td>0</td>\n      <td>0</td>\n      <td>0</td>\n      <td>0</td>\n      <td>0</td>\n      <td>0</td>\n      <td>0</td>\n      <td>0</td>\n      <td>0</td>\n      <td>...</td>\n      <td>0</td>\n      <td>0</td>\n      <td>0</td>\n      <td>0</td>\n      <td>0</td>\n      <td>0</td>\n      <td>0</td>\n      <td>0</td>\n      <td>0</td>\n      <td>0</td>\n    </tr>\n    <tr>\n      <th>536974</th>\n      <td>0</td>\n      <td>0</td>\n      <td>0</td>\n      <td>0</td>\n      <td>0</td>\n      <td>0</td>\n      <td>0</td>\n      <td>0</td>\n      <td>0</td>\n      <td>0</td>\n      <td>...</td>\n      <td>0</td>\n      <td>0</td>\n      <td>0</td>\n      <td>0</td>\n      <td>0</td>\n      <td>0</td>\n      <td>0</td>\n      <td>0</td>\n      <td>0</td>\n      <td>0</td>\n    </tr>\n    <tr>\n      <th>537065</th>\n      <td>0</td>\n      <td>0</td>\n      <td>0</td>\n      <td>0</td>\n      <td>0</td>\n      <td>0</td>\n      <td>0</td>\n      <td>0</td>\n      <td>0</td>\n      <td>0</td>\n      <td>...</td>\n      <td>0</td>\n      <td>0</td>\n      <td>0</td>\n      <td>0</td>\n      <td>0</td>\n      <td>0</td>\n      <td>0</td>\n      <td>0</td>\n      <td>0</td>\n      <td>0</td>\n    </tr>\n    <tr>\n      <th>537463</th>\n      <td>0</td>\n      <td>0</td>\n      <td>0</td>\n      <td>0</td>\n      <td>0</td>\n      <td>0</td>\n      <td>0</td>\n      <td>0</td>\n      <td>0</td>\n      <td>0</td>\n      <td>...</td>\n      <td>0</td>\n      <td>0</td>\n      <td>0</td>\n      <td>0</td>\n      <td>0</td>\n      <td>0</td>\n      <td>0</td>\n      <td>0</td>\n      <td>0</td>\n      <td>0</td>\n    </tr>\n  </tbody>\n</table>\n<p>5 rows × 1563 columns</p>\n</div>"
          },
          "metadata": {}
        }
      ],
      "execution_count": 40
    },
    {
      "id": "aa3dbd3f-a764-4ae0-9d78-e83fe4b46310",
      "cell_type": "code",
      "source": "# Building the model \nfrq_items = apriori (basket_France, min_support = 0.1, use_colnames = True)\n\n# Collecting the inferred rules in a dataframe \nrules = association_rules(frq_items, metric =\"lift\", min_threshold = 1) \nrules = rules.sort_values(['confidence', 'lift'], ascending =[False, False])",
      "metadata": {
        "trusted": true
      },
      "outputs": [
        {
          "ename": "<class 'TypeError'>",
          "evalue": "association_rules() missing 1 required positional argument: 'num_itemsets'",
          "traceback": [
            "\u001b[0;31m---------------------------------------------------------------------------\u001b[0m",
            "\u001b[0;31mTypeError\u001b[0m                                 Traceback (most recent call last)",
            "Cell \u001b[0;32mIn[41], line 5\u001b[0m\n\u001b[1;32m      2\u001b[0m frq_items \u001b[38;5;241m=\u001b[39m apriori (basket_France, min_support \u001b[38;5;241m=\u001b[39m \u001b[38;5;241m0.1\u001b[39m, use_colnames \u001b[38;5;241m=\u001b[39m \u001b[38;5;28;01mTrue\u001b[39;00m)\n\u001b[1;32m      4\u001b[0m \u001b[38;5;66;03m# Collecting the inferred rules in a dataframe \u001b[39;00m\n\u001b[0;32m----> 5\u001b[0m rules \u001b[38;5;241m=\u001b[39m \u001b[43massociation_rules\u001b[49m\u001b[43m(\u001b[49m\u001b[43mfrq_items\u001b[49m\u001b[43m,\u001b[49m\u001b[43m \u001b[49m\u001b[43mmetric\u001b[49m\u001b[43m \u001b[49m\u001b[38;5;241;43m=\u001b[39;49m\u001b[38;5;124;43m\"\u001b[39;49m\u001b[38;5;124;43mlift\u001b[39;49m\u001b[38;5;124;43m\"\u001b[39;49m\u001b[43m,\u001b[49m\u001b[43m \u001b[49m\u001b[43mmin_threshold\u001b[49m\u001b[43m \u001b[49m\u001b[38;5;241;43m=\u001b[39;49m\u001b[43m \u001b[49m\u001b[38;5;241;43m1\u001b[39;49m\u001b[43m)\u001b[49m \n\u001b[1;32m      6\u001b[0m rules \u001b[38;5;241m=\u001b[39m rules\u001b[38;5;241m.\u001b[39msort_values([\u001b[38;5;124m'\u001b[39m\u001b[38;5;124mconfidence\u001b[39m\u001b[38;5;124m'\u001b[39m, \u001b[38;5;124m'\u001b[39m\u001b[38;5;124mlift\u001b[39m\u001b[38;5;124m'\u001b[39m], ascending \u001b[38;5;241m=\u001b[39m[\u001b[38;5;28;01mFalse\u001b[39;00m, \u001b[38;5;28;01mFalse\u001b[39;00m])\n",
            "\u001b[0;31mTypeError\u001b[0m: association_rules() missing 1 required positional argument: 'num_itemsets'"
          ],
          "output_type": "error"
        }
      ],
      "execution_count": 41
    },
    {
      "id": "802654b8-a974-428d-8caf-9f5a89f6ea49",
      "cell_type": "code",
      "source": "print(rules.head())",
      "metadata": {},
      "outputs": [
        {
          "name": "stdout",
          "output_type": "stream",
          "text": [
            "                                 antecedents                      consequents  \\\n",
            "40           (SET/6 RED SPOTTY PAPER PLATES)    (SET/6 RED SPOTTY PAPER CUPS)   \n",
            "42  (SET/6 RED SPOTTY PAPER PLATES, POSTAGE)    (SET/6 RED SPOTTY PAPER CUPS)   \n",
            "34       (STRAWBERRY LUNCH BOX WITH CUTLERY)                        (POSTAGE)   \n",
            "26      (ROUND SNACK BOXES SET OF4 WOODLAND)                        (POSTAGE)   \n",
            "41             (SET/6 RED SPOTTY PAPER CUPS)  (SET/6 RED SPOTTY PAPER PLATES)   \n",
            "\n",
            "    antecedent support  consequent support   support  confidence      lift  \\\n",
            "40            0.127551            0.137755  0.122449    0.960000  6.968889   \n",
            "42            0.107143            0.137755  0.102041    0.952381  6.913580   \n",
            "34            0.122449            0.765306  0.114796    0.937500  1.225000   \n",
            "26            0.158163            0.765306  0.147959    0.935484  1.222366   \n",
            "41            0.137755            0.127551  0.122449    0.888889  6.968889   \n",
            "\n",
            "    leverage  conviction  zhangs_metric  \n",
            "40  0.104878   21.556122       0.981725  \n",
            "42  0.087281   18.107143       0.958000  \n",
            "34  0.021085    3.755102       0.209302  \n",
            "26  0.026916    3.637755       0.216092  \n",
            "41  0.104878    7.852041       0.993343  \n"
          ]
        }
      ],
      "execution_count": 17
    },
    {
      "id": "f7938a4d-0240-4eeb-91d3-fda8966cd9f6",
      "cell_type": "code",
      "source": "",
      "metadata": {},
      "outputs": [],
      "execution_count": null
    }
  ]
}