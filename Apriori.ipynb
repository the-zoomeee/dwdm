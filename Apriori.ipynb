{
  "metadata": {
    "kernelspec": {
      "name": "python",
      "display_name": "Python (Pyodide)",
      "language": "python"
    },
    "language_info": {
      "codemirror_mode": {
        "name": "python",
        "version": 3
      },
      "file_extension": ".py",
      "mimetype": "text/x-python",
      "name": "python",
      "nbconvert_exporter": "python",
      "pygments_lexer": "ipython3",
      "version": "3.8"
    },
    "widgets": {
      "application/vnd.jupyter.widget-state+json": {
        "version_major": 2,
        "version_minor": 0,
        "state": {}
      }
    }
  },
  "nbformat_minor": 4,
  "nbformat": 4,
  "cells": [
    {
      "cell_type": "code",
      "source": "import pandas as pd\nfrom itertools import combinations, chain",
      "metadata": {
        "trusted": true
      },
      "outputs": [],
      "execution_count": 2
    },
    {
      "cell_type": "code",
      "source": "# Generate candidate itemsets of size k\ndef generate_candidates(frequent_itemsets, k):\n    return list(combinations(set(chain.from_iterable(frequent_itemsets)), k))\n\n# Filter itemsets based on support threshold\ndef filter_candidates(transactions, candidates, min_support):\n    itemset_count = {}\n    for transaction in transactions:\n        for candidate in candidates:\n            if set(candidate).issubset(transaction):\n                itemset_count[candidate] = itemset_count.get(candidate, 0) + 1\n\n    total_transactions = len(transactions)\n    frequent_itemsets = {\n        itemset: count / total_transactions \n        for itemset, count in itemset_count.items() \n        if (count / total_transactions) >= min_support\n    }\n    return frequent_itemsets\n\n# Generate association rules\ndef generate_rules(frequent_itemsets, min_confidence):\n    rules = []\n    for itemset in frequent_itemsets:\n        if len(itemset) < 2:\n            continue\n        subsets = list(chain.from_iterable(combinations(itemset, r) for r in range(1, len(itemset))))\n        for subset in subsets:\n            antecedent = subset\n            consequent = tuple(set(itemset) - set(subset))\n            if consequent:\n                confidence = frequent_itemsets[itemset] / frequent_itemsets.get(antecedent, 1)\n                if confidence >= min_confidence:\n                    rules.append((antecedent, consequent, confidence))\n    return rules\n",
      "metadata": {
        "trusted": true
      },
      "outputs": [],
      "execution_count": 3
    },
    {
      "cell_type": "code",
      "source": "def apriori(transactions, min_support, min_confidence):\n    transactions = [set(transaction) for transaction in transactions]\n    frequent_itemsets = {}\n    k = 1\n\n    # Generate frequent itemsets\n    while True:\n        candidates = generate_candidates(frequent_itemsets.keys(), k) if frequent_itemsets else list(combinations(set(chain.from_iterable(transactions)), k))\n        filtered_candidates = filter_candidates(transactions, candidates, min_support)\n        if not filtered_candidates:\n            break\n        frequent_itemsets.update(filtered_candidates)\n        k += 1\n\n    # Generate rules\n    rules = generate_rules(frequent_itemsets, min_confidence)\n    return frequent_itemsets, rules\n",
      "metadata": {
        "trusted": true
      },
      "outputs": [],
      "execution_count": 4
    },
    {
      "cell_type": "code",
      "source": "# Example dataset\ndataset = [\n    ['Milk', 'Bread', 'Butter'],\n    ['Beer', 'Bread', 'Butter', 'Eggs'],\n    ['Milk', 'Bread', 'Butter', 'Eggs'],\n    ['Beer', 'Bread', 'Eggs'],\n    ['Milk', 'Bread', 'Butter', 'Beer']\n]\n\n# Minimum support and confidence thresholds\nmin_support = 0.5\nmin_confidence = 0.7\n\n# Run Apriori Algorithm\nfrequent_itemsets, rules = apriori(dataset, min_support, min_confidence)\n\n# Display results\nprint(\"Frequent Itemsets:\")\nfor itemset, support in frequent_itemsets.items():\n    print(f\"{itemset}: {support:.2f}\")\n\nprint(\"\\nAssociation Rules:\")\nfor antecedent, consequent, confidence in rules:\n    print(f\"{antecedent} -> {consequent}: {confidence:.2f}\")\n",
      "metadata": {
        "trusted": true
      },
      "outputs": [
        {
          "name": "stdout",
          "text": "Frequent Itemsets:\n('Butter',): 0.80\n('Milk',): 0.60\n('Bread',): 1.00\n('Beer',): 0.60\n('Eggs',): 0.60\n('Butter', 'Milk'): 0.60\n('Butter', 'Bread'): 0.80\n('Milk', 'Bread'): 0.60\n('Beer', 'Bread'): 0.60\n('Bread', 'Eggs'): 0.60\n('Butter', 'Milk', 'Bread'): 0.60\n\nAssociation Rules:\n('Butter',) -> ('Milk',): 0.75\n('Milk',) -> ('Butter',): 1.00\n('Butter',) -> ('Bread',): 1.00\n('Bread',) -> ('Butter',): 0.80\n('Milk',) -> ('Bread',): 1.00\n('Beer',) -> ('Bread',): 1.00\n('Eggs',) -> ('Bread',): 1.00\n('Butter',) -> ('Milk', 'Bread'): 0.75\n('Milk',) -> ('Butter', 'Bread'): 1.00\n('Butter', 'Milk') -> ('Bread',): 1.00\n('Butter', 'Bread') -> ('Milk',): 0.75\n('Milk', 'Bread') -> ('Butter',): 1.00\n",
          "output_type": "stream"
        }
      ],
      "execution_count": 5
    }
  ]
}